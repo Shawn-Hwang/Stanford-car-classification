{
  "cells": [
    {
      "cell_type": "markdown",
      "metadata": {
        "id": "s2bccfwnOIxS"
      },
      "source": [
        "# Project 5 - Intro to Deep Learning Image Classification\n",
        "\n",
        "### What to Submit\n",
        "Submit this iPython Notebook--containing all your code for the programming exercises below--on [LearningSuite](https://learningsuite.byu.edu/).\n",
        "\n",
        "Your notebook file should produce the relevant plots and also provide a short write-up with answers to the questions below (at the end of this notebook).\n",
        "\n",
        "<span style=\"color:red\">PLEASE submit only the notebook -- no additional files.</span>\n",
        "\n",
        "Please also fill in here the time that each part took you:\n",
        "1. Part A - Dataset: <span style=\"color:red;\">13 hrs</span>\n",
        "2. Part B - Neural Network Architecture: <span style=\"color:red;\">10 mins</span>\n",
        "3. Part C - Network Training: <span style=\"color:red;\">3 hrs</span>\n",
        "4. Part D - Testing: <span style=\"color:red;\">3 hrs</span>\n",
        "5. Write-up: <span style=\"color:red;\">3 mins</span>"
      ]
    },
    {
      "cell_type": "markdown",
      "metadata": {
        "id": "lRSFX9rOOIxU"
      },
      "source": [
        "## Background - Image Classification\n",
        "\n",
        "For this project you will be introduced to the basics of deep learning and the PyTorch framework.  Deep learning can be very computationally expensive and runs fastest with GPU support.  If you do not have access to NVIDIA GPUs on your local machine, you can use some from Google using their [colab tool](https://colab.research.google.com).  Colab runs exactly like jupyter notebooks and you can directly upload your .ipynb file.\n",
        "\n",
        "Image classification is the task of taking an image and labeling it as a category.  Deep learning has been the leading method for image classification since it dominated the [ImageNet competition in 2012](https://papers.nips.cc/paper/4824-imagenet-classification-with-deep-convolutional-neural-networks.pdf)."
      ]
    },
    {
      "cell_type": "code",
      "execution_count": 1,
      "metadata": {
        "id": "cbWaGUolSwGG"
      },
      "outputs": [],
      "source": [
        "from torchvision.models import resnet152, resnet18, resnet34, resnet50, resnet101\n",
        "from torchvision import transforms, datasets, utils\n",
        "from torch.utils.data import DataLoader, Dataset, random_split\n",
        "from skimage import io, transform\n",
        "import torch\n",
        "from torch import optim, nn\n",
        "import zipfile\n",
        "from google.colab import files\n",
        "import os\n",
        "import sys\n",
        "from PIL import Image, ImageOps\n",
        "from tqdm import tqdm\n",
        "import numpy as np\n",
        "from matplotlib import pyplot as plt\n",
        "import scipy.io\n",
        "from zipfile import ZipFile\n",
        "import tarfile\n",
        "import requests\n",
        "import json\n",
        "import time\n",
        "device = torch.device('cuda' if torch.cuda.is_available() else 'cpu')"
      ]
    },
    {
      "cell_type": "markdown",
      "metadata": {
        "id": "h3jrsx6c5HDN"
      },
      "source": [
        "# Test"
      ]
    },
    {
      "cell_type": "code",
      "execution_count": null,
      "metadata": {
        "id": "hqTihbqw9mKU"
      },
      "outputs": [],
      "source": [
        "# TODO:\n",
        "# (-) 1) Try finetuning without unfreezing\n",
        "# () 2) Try finetuning with unfreezing\n",
        "# (X) 3) Replace hand-written transform classes with torchvision versions.      *It helps a lot*\n",
        "# (X) 4) Save all images to RAM in the dataset's constructor                    *It does not help with the speed*\n",
        "# () 5) Try adam weight_decay=1e-1\n",
        "\n",
        "\n",
        "# (-) means 'working on'\n",
        "# (X) means 'finished'"
      ]
    },
    {
      "cell_type": "markdown",
      "metadata": {
        "id": "IlN1u3wpOIxV"
      },
      "source": [
        "# Part A: Dataset\n",
        "\n",
        "You will be performing classification on the [Stanford Cars Dataset](https://ai.stanford.edu/~jkrause/cars/car_dataset.html), which consists of 16,185 images of 196 classes of cars.  The dataset is split 50-50 into a training set and testing set.  You will want to download each one idividually from Stanford's site or use these links: [Train Set](http://ai.stanford.edu/~jkrause/car196/cars_train.tgz) and [Test Set](http://ai.stanford.edu/~jkrause/car196/cars_test.tgz).  Each set is around 1 GB of data so please **<span style=\"color:red\">DO NOT</span>** include the files when you upload your notebook--**just turn in the .ipynb file**.  Assume the notebooks will be run with the images in folders labeled `cars_train` and `cars_test` like so:\n",
        "\n",
        "```\n",
        ".\n",
        "+--proj5-image-classification.ipynb\n",
        "+--cars_train\n",
        "|  +--00001.jpg\n",
        "|  +--00002.jpg\n",
        "|  +--...\n",
        "+--cars_test\n",
        "|  +--00001.jpg\n",
        "|  +--00002.jpg\n",
        "|  +--...\n",
        "+--test_annos.json\n",
        "+--train_annos.json\n",
        "```\n",
        "\n",
        "The first step in any deep learning method is to make sure you can read in the data.  Since there will be a lot of images for this project, it is possible not all of them will fit into memory.  This is a common problem in deep learning and PyTorch has provided a pattern so as to only have the images you need in memory at a time.  They provide a class called `DataLoader` that acts as an iterable object.  To use `DataLoader`, you will need to implement a subclass of PyTorch's `Dataset` class.  To do you so will need to create a class that inherits from `Dataset` and implements the methods `__getitem__` and `__len__`.  An example is given below and PyTorch provides a [tutorial here](https://pytorch.org/tutorials/beginner/data_loading_tutorial.html):\n",
        "\n",
        "```Python\n",
        "from torch.utils.data import Dataset, DataLoader\n",
        "\n",
        "class MyDataset(Dataset):\n",
        "    def __init__(self):\n",
        "        super(MyDataset, self).__init__()\n",
        "#         TODO: implement what happens when someone calls: \n",
        "#         dataset = MyDataset()\n",
        "    \n",
        "    def __getitem__(self, idx):\n",
        "#         TODO: implement what happens when someone calls dataset[idx]\n",
        "#         This typically will return an image and its label \n",
        "    \n",
        "    def __len__(self):\n",
        "#         TODO: implement what happens when someone calls len(dataset)\n",
        "\n",
        "dataset = MyDataset()\n",
        "loader = DataLoader(dataset)\n",
        "for im, label in loader:\n",
        "#     TODO: Perform operations\n",
        "```\n",
        "\n",
        "We provide you with two files: `test_annos.json` and `train_annos.json`.  These files contain a dictionary mapping image name to the class label the image belongs to.  You can use these files in you Dataset class in order to provide the ground truth labels.  For part A, you will need to implement a dataset class.\n",
        "\n",
        "**Note:** Both the images and the labels are 1-indexed. You can load the images however you choosed, but the labels must be 0-indexed to work with Pytorch's loss functions. Make sure to account for this in your Dataset class."
      ]
    },
    {
      "cell_type": "markdown",
      "metadata": {
        "id": "Q4TTV-4z_8AW"
      },
      "source": [
        "## Download and preprocess the images"
      ]
    },
    {
      "cell_type": "code",
      "execution_count": 2,
      "metadata": {
        "id": "Ej3qj6HFSpeZ"
      },
      "outputs": [],
      "source": [
        "class CarDataset(Dataset):\n",
        "    def __init__(self, root, download=True, transform=None, train=True):\n",
        "        super(CarDataset, self).__init__()\n",
        "        self.transform = transform\n",
        "        postfix = 'train' if train else 'test'\n",
        "\n",
        "        # Download images\n",
        "        if download and not os.path.exists(os.path.join(root, 'cars_{}'.format(postfix))):\n",
        "          download_path = 'http://ai.stanford.edu/~jkrause/car196/cars_{}.tgz'.format(postfix)\n",
        "          datasets.utils.download_url(download_path, root, 'cars_{}.tgz'.format(postfix), None)\n",
        "          self.extract_tar(os.path.join(root, 'cars_{}.tgz'.format(postfix)))\n",
        "        self.image_dir = os.path.join(root, 'cars_{}'.format(postfix))\n",
        "\n",
        "        # Download labels\n",
        "        if train:\n",
        "          if download and not os.path.exists(os.path.join(root, 'devkit')):\n",
        "            annos_path = 'https://ai.stanford.edu/~jkrause/cars/car_devkit.tgz'\n",
        "            save_path = os.path.join(root,'car_devkit.tgz')\n",
        "            self.request_download(annos_path, save_path)\n",
        "            self.extract_tar(os.path.join(root,'car_devkit.tgz'))\n",
        "          label_path = os.path.join(root, 'devkit/cars_train_annos.mat')\n",
        "        else:\n",
        "          if download and not os.path.exists(os.path.join(root, 'cars_test_annos_withlabels.mat')):\n",
        "            annos_path = 'http://ai.stanford.edu/~jkrause/car196/cars_test_annos_withlabels.mat'\n",
        "            save_path = os.path.join(root,'cars_test_annos_withlabels.mat')\n",
        "            self.request_download(annos_path, save_path)\n",
        "          label_path = os.path.join(root,'cars_test_annos_withlabels.mat')\n",
        "\n",
        "        # Save labels to RAM\n",
        "        labels_mat = scipy.io.loadmat(label_path)\n",
        "        self.img_names_list = []\n",
        "        self.labels_list = []\n",
        "        for img in labels_mat['annotations'][0]:\n",
        "          label = img[-2].item()\n",
        "          img_name = img[-1].item()\n",
        "          self.labels_list.append(label)\n",
        "          self.img_names_list.append(img_name)\n",
        "\n",
        "        self.one_hot_labels = self.one_hot_encoding()\n",
        "\n",
        "\n",
        "    @staticmethod\n",
        "    def extract_tar(tar_path):\n",
        "        file = tarfile.open(tar_path)\n",
        "        file.extractall(root)\n",
        "        file.close()\n",
        "\n",
        "    @staticmethod\n",
        "    def request_download(url, save_path):\n",
        "        file_r = requests.get(url)\n",
        "        with open(save_path, 'wb') as f:\n",
        "          f.write(file_r.content)\n",
        "\n",
        "    def one_hot_encoding(self):\n",
        "        labels = np.array(self.labels_list)\n",
        "        labels -= 1 # since it starts from 1 instead of 0\n",
        "        one_hot_labels = np.zeros((labels.size, np.amax(labels)+1))\n",
        "        one_hot_labels[np.arange(labels.size),labels] = 1\n",
        "        return one_hot_labels\n",
        "\n",
        "\n",
        "    def __getitem__(self, i):\n",
        "        if torch.is_tensor(i):\n",
        "          i = i.tolist()\n",
        "\n",
        "        # Get image\n",
        "        img_name = self.img_names_list[i]\n",
        "        img_path = os.path.join(self.image_dir, img_name)\n",
        "        image = Image.open(img_path).convert('RGB').copy()\n",
        "  \n",
        "        # Get label\n",
        "        label = self.one_hot_labels[i]\n",
        "        label = torch.from_numpy(label)\n",
        "\n",
        "        # Transform\n",
        "        if self.transform:\n",
        "          # print(image.shape)\n",
        "          image = self.transform(image)\n",
        "\n",
        "        sample = {'image': image, 'label': label}\n",
        "\n",
        "        return sample\n",
        "\n",
        "    def __len__(self):\n",
        "        return int(len(self.labels_list)/1)"
      ]
    },
    {
      "cell_type": "code",
      "execution_count": 3,
      "metadata": {
        "id": "GWirgy4vHmDM"
      },
      "outputs": [],
      "source": [
        "# Define transforms\n",
        "random_resize_crop = transforms.RandomResizedCrop(size=224,scale=(0.6,1), ratio=(1,4/3))\n",
        "normalize = transforms.Normalize(mean=[0.485, 0.456, 0.406],std=[0.229, 0.224, 0.225])\n",
        "compose = transforms.Compose([\n",
        "    transforms.ToTensor(),\n",
        "    random_resize_crop,\n",
        "    normalize\n",
        "])"
      ]
    },
    {
      "cell_type": "code",
      "execution_count": 4,
      "metadata": {
        "id": "erS7meL6c8V3"
      },
      "outputs": [],
      "source": [
        "root = '/content/stanford_cars_dataset/'"
      ]
    },
    {
      "cell_type": "markdown",
      "source": [
        "## Label Distribution"
      ],
      "metadata": {
        "id": "FA5JYBZnT7oY"
      }
    },
    {
      "cell_type": "code",
      "execution_count": null,
      "metadata": {
        "id": "D2L_SBsQUMLd"
      },
      "outputs": [],
      "source": [
        "car_test_data = CarDataset(root=root, download=True, transform=compose, train=False)\n",
        "car_train_valid_data = CarDataset(root=root, download=True, transform=compose, train=True)\n",
        "train_size = int(0.9*len(car_train_valid_data))\n",
        "val_size = len(car_train_valid_data) - train_size\n",
        "\n",
        "car_train_data, car_val_data = random_split(car_train_valid_data, [train_size, val_size])\n",
        "train_loader = DataLoader(car_train_data, batch_size=1, num_workers=2, pin_memory=True)\n",
        "val_loader = DataLoader(car_val_data, batch_size=1, num_workers=2, pin_memory=True)\n",
        "test_loader = DataLoader(car_test_data, batch_size=1, num_workers=2, pin_memory=True)"
      ]
    },
    {
      "cell_type": "code",
      "execution_count": null,
      "metadata": {
        "id": "sZcWzlaSOhRj"
      },
      "outputs": [],
      "source": [
        "train_label_counter = np.zeros(196)\n",
        "val_label_counter = np.zeros(196)\n",
        "test_label_counter = np.zeros(196)"
      ]
    },
    {
      "cell_type": "code",
      "execution_count": null,
      "metadata": {
        "colab": {
          "base_uri": "https://localhost:8080/"
        },
        "id": "fct4rOvZKtfI",
        "outputId": "166d498c-a3f2-4bfe-9121-db6a1fbf5262"
      },
      "outputs": [
        {
          "name": "stderr",
          "output_type": "stream",
          "text": [
            "100%|██████████| 7329/7329 [01:51<00:00, 65.90it/s]\n",
            "100%|██████████| 8041/8041 [01:59<00:00, 67.24it/s]\n",
            "100%|██████████| 815/815 [00:11<00:00, 73.40it/s] \n"
          ]
        }
      ],
      "source": [
        "for sample in tqdm(train_loader):\n",
        "  idx = torch.argmax(sample['label']).item()\n",
        "  train_label_counter[idx] += 1\n",
        "for sample in tqdm(test_loader):\n",
        "  idx = torch.argmax(sample['label']).item()\n",
        "  test_label_counter[idx] += 1\n",
        "for sample in tqdm(val_loader):\n",
        "  idx = torch.argmax(sample['label']).item()\n",
        "  val_label_counter[idx] += 1"
      ]
    },
    {
      "cell_type": "code",
      "execution_count": null,
      "metadata": {
        "colab": {
          "base_uri": "https://localhost:8080/",
          "height": 753
        },
        "id": "CyXML2f2P7fb",
        "outputId": "9f0cfb0c-575a-4961-c537-0d127bceef0a"
      },
      "outputs": [
        {
          "data": {
            "image/png": "[encoded data removed]",
            "text/plain": [
              "<Figure size 1440x1080 with 3 Axes>"
            ]
          },
          "metadata": {},
          "output_type": "display_data"
        }
      ],
      "source": [
        "plt.rcParams['figure.figsize'] = [20,15]\n",
        "plt.subplot(311)\n",
        "plt.bar(np.arange(196),train_label_counter)\n",
        "plt.title('Training set label distribution')\n",
        "plt.xlabel('label')\n",
        "plt.ylabel('number of samples')\n",
        "plt.grid()\n",
        "\n",
        "plt.subplot(312)\n",
        "plt.bar(np.arange(196),val_label_counter)\n",
        "plt.title('Validation set label distribution')\n",
        "plt.xlabel('label')\n",
        "plt.ylabel('number of samples')\n",
        "plt.grid()\n",
        "\n",
        "plt.subplot(313)\n",
        "plt.bar(np.arange(196),test_label_counter)\n",
        "plt.title('Testing set label distribution')\n",
        "plt.xlabel('label')\n",
        "plt.ylabel('number of samples')\n",
        "plt.grid()\n",
        "plt.show()\n"
      ]
    },
    {
      "cell_type": "markdown",
      "metadata": {
        "id": "j3cGguwaOIxX"
      },
      "source": [
        "# Part B: Neural Network Architecture\n",
        "\n",
        "The main backbone for deep learning is the actual neural network architecture.  For image classification, this will consist of some combination of `Conv2d` layers with activations--usually `ReLU`--with intermittent downsampling--usually done using `MaxPool2d`--followed by a few Linear layers.  The input to the network should be an image with shape `(batch_size, channels, image_height, image_width)`(e.g. a single RGB image with dimensions 224x224 would be `(1, 3, 224, 224)`) and the output a vector of shape `(num_classes,)`, where the largest value's index in the output vector indicates the class label.  \n",
        "\n",
        "While we built our own network in the Learning Lab, for this lab we will used one of Pytorch's pretrained networks. This has the benefit of already having learned features from training on an ImageNet classification problem. To pull in this pretrained network, we use the following line of code:"
      ]
    },
    {
      "cell_type": "code",
      "execution_count": null,
      "metadata": {
        "colab": {
          "base_uri": "https://localhost:8080/"
        },
        "id": "6hEejBlvOIxX",
        "outputId": "ef40c2d9-8ee1-455b-9ec1-a3c2c73125cb"
      },
      "outputs": [
        {
          "name": "stdout",
          "output_type": "stream",
          "text": [
            "['conv1', 'bn1', 'relu', 'maxpool', 'layer1', 'layer2', 'layer3', 'layer4', 'avgpool', 'fc']\n"
          ]
        }
      ],
      "source": [
        "import torchvision\n",
        "\n",
        "model = torchvision.models.resnet18(pretrained=True)\n",
        "\n",
        "print(list(model.__dict__[\"_modules\"].keys()))"
      ]
    },
    {
      "cell_type": "markdown",
      "metadata": {
        "id": "5eOrJAZGOIxY"
      },
      "source": [
        "The ResNet18 is a state of the art network that uses convolution layers, batch normalization, layers of residual blocks, and a fully connected layer at the end. The different layers are listed above. However, because the pretrained network was trained on ImageNet, the last layer is designed to predict 1000 classes, not 196 like in our dataset."
      ]
    },
    {
      "cell_type": "code",
      "execution_count": null,
      "metadata": {
        "id": "sVt_UiMCOIxZ",
        "outputId": "51867309-93f9-4d6a-a5a9-16133450221f"
      },
      "outputs": [
        {
          "name": "stdout",
          "output_type": "stream",
          "text": [
            "Linear(in_features=512, out_features=1000, bias=True)\n"
          ]
        }
      ],
      "source": [
        "print(model.fc)"
      ]
    },
    {
      "cell_type": "markdown",
      "metadata": {
        "id": "-H7gG9jXOIxZ"
      },
      "source": [
        "Our goal is to use the same architecture as the ResNet, but replace the last fully connected layer with a new fully connected layer that goes from 512 input features to 196 output features.\n",
        "\n",
        "PyTorch provides a nice framework for making a neural network architecture.  A network is typically made as a class that inherits from PyTorch's `Module` class and implements the `forward` method.  A network might take the form of the example below. PyTorch also provides a simple Neural Network [tutorial here](https://pytorch.org/tutorials/beginner/deep_learning_60min_blitz.html) -- the Training a Classifier tutorial is especially helpful.\n",
        "```Python\n",
        "import torch.nn as nn \n",
        "\n",
        "class MyNetwork(nn.Module):\n",
        "    def __init__(self):\n",
        "        super(MyNetwork, self).__init__()\n",
        "#         TODO: setup network here\n",
        "\n",
        "    def forward(self, x):\n",
        "#         TODO: perform the forward pass, which happens when someone calls network(x)\n",
        "```\n",
        "\n",
        "Take all the pretrained layers from ResNet18, but then define your own last fully connected layer. Then write the appropriate forward pass function.\n",
        "\n",
        "**Note:** ResNet was trained with images that are normalized according to the ImageNet color averages. This means you may want to include an appropriate normalization in your Dataset class if you did not already. This can easily be done with Pytorch's transform objects.\n",
        "\n",
        "```Python\n",
        "normalize = transforms.Normalize(mean=[0.485, 0.456, 0.406],std=[0.229, 0.224, 0.225])\n",
        "```"
      ]
    },
    {
      "cell_type": "code",
      "execution_count": 5,
      "metadata": {
        "id": "VWtPoOckOIxa"
      },
      "outputs": [],
      "source": [
        "# Your Code Here\n",
        "class Net(nn.Module):\n",
        "  def __init__(self, output_size=196, resnet_version=18, start_frozen=False):\n",
        "      super(Net, self).__init__()\n",
        "\n",
        "      self.resnet_version = resnet_version\n",
        "      if resnet_version == 18:\n",
        "        self.model = resnet18(pretrained=True)\n",
        "      elif resnet_version == 34:\n",
        "        self.model = resnet34(pretrained=True)\n",
        "      elif resnet_version == 50:\n",
        "        self.model = resnet50(pretrained=True)\n",
        "      elif resnet_version == 101:\n",
        "        self.model = resnet101(pretrained=True)\n",
        "      elif resnet_version == 152:\n",
        "        self.model = resnet152(pretrained=True)\n",
        "      else:\n",
        "        self.model = resnet50(pretrained=True)\n",
        "\n",
        "      self.model.fc = nn.Linear(self.model.fc.in_features, output_size)\n",
        "\n",
        "      if start_frozen:\n",
        "        for param in self.model.parameters():\n",
        "          param.requires_grad = False\n",
        "\n",
        "  def unfreeze(self, n_layers):\n",
        "      ct = n_layers - 1\n",
        "      if n_layers == 1:\n",
        "        for param in self.model.fc.parameters():\n",
        "          param.requires_grad = True\n",
        "        return\n",
        "\n",
        "      for name, param in reversed(list(self.model.named_parameters())):\n",
        "        if self.resnet_version > 34:\n",
        "          if 'conv2' in name: # conv1 and conv3 are bottleneck layers\n",
        "            param.requires_grad = True\n",
        "            ct -= 1\n",
        "            if ct == 0: return\n",
        "        else:\n",
        "          if 'conv' in name:\n",
        "            param.requires_grad = True\n",
        "            ct -= 1\n",
        "            if ct == 0: return\n",
        "            \n",
        "      for name, param in self.model.named_parameters():\n",
        "        param.requires_grad = True # The first conv1 layer\n",
        "        return\n",
        "  \n",
        "  def forward(self, x):\n",
        "      return self.model(x)"
      ]
    },
    {
      "cell_type": "markdown",
      "metadata": {
        "id": "mgNGw9M8OIxa"
      },
      "source": [
        "# Part C: Training\n",
        "\n",
        "Now that you can access your data and you have a network architecture set up, its time to put things together and start training.  Training requires two additional major components: 1) the loss function and 2) the optimizer.  The loss function is a comparison between your results and the ground truth data.  The optimizer is what takes the results of the loss function and backpropagates the error to the network weights in an attempt to decrease the loss.  The most common loss function used for classification is [Cross Entropy](https://pytorch.org/docs/stable/nn.html#crossentropyloss) while the most commonly used optimizer is [Adam](https://pytorch.org/docs/stable/optim.html#torch.optim.Adam).  \n",
        "\n",
        "A basic training step might take the following form:\n",
        "```Python\n",
        "optimizer.zero_grad()\n",
        "outs = model(inputs)\n",
        "loss = loss_func(outs, labels)  # loss_func would be an instance of a torch.nn.CrossEntropyLoss class\n",
        "loss.backward()\n",
        "optimizer.step()  # optimizer would be an instance of the torch.optim.Adam class\n",
        "```\n",
        "\n",
        "For deliverables on this section, please display a plot of the value of the loss over time.  If things are working, the loss should be decreasing.\n",
        "\n",
        "**Note: This step could take several hours so you will want to look into being able to save your model to a file and load it up again.** See [here](https://pytorch.org/docs/stable/notes/serialization.html).\n",
        "\n",
        "Also, if you are running on Google Colab, your notebook may eventually get disconnected -- Colab limits the amount of time you can spend using their service at one time. You may want to save intermediate results to your Google Drive: see [here](https://medium.com/@ml_kid/how-to-save-our-model-to-google-drive-and-reuse-it-2c1028058cb2)."
      ]
    },
    {
      "cell_type": "code",
      "execution_count": 21,
      "metadata": {
        "id": "M40qBKuJWUub"
      },
      "outputs": [],
      "source": [
        "# Hyper-parameters\n",
        "args = {\n",
        "    'epoch': 10,\n",
        "    'lr': 3e-4,\n",
        "    'batch_size': 64,\n",
        "    'test_every_n_epochs': 2\n",
        "}"
      ]
    },
    {
      "cell_type": "code",
      "execution_count": 7,
      "metadata": {
        "id": "ahmuWx16TGNQ",
        "colab": {
          "base_uri": "https://localhost:8080/",
          "height": 118,
          "referenced_widgets": [
            "a2cb11177ef04a8ab3db350dd9231fd4",
            "9ccc5b13cb4a4ec080bc775fe3c55eb8",
            "3c82d9cf55ff425e9b608fe20fe3b157",
            "20b7645fe6bb4148adc32dd917e0085f",
            "8c856918d2ef41e7a53c9140ed7ecbe7",
            "d8cbf48eaad44e09ad07e08d3c06ac26",
            "2c1b4a90a3f94bbeb859b1ef8a1e5dc8",
            "5116ee0aebad472baa019900d163dd49",
            "4c88a74bcd3449eea8b525e417efae5a",
            "bb663bf045fa4a2889e35aa7a4b2a9c4",
            "28a3e825617a455d872eccfc83537f32",
            "bd243f26549d4da0ac81cec6bd6bfe44",
            "485c790225fe431681d732a7b7359ba7",
            "6b0d4816990e4afb87396fce2da47e08",
            "54890ad7ec3647d3ba568eb0d4b424d6",
            "9cefc2e9d0184ef4bd9ec63aa7f77d9d",
            "77446f0e17404bc0b1571fc74d53d2c5",
            "52417aedffdd45468ed36f2a06ed028a",
            "090ab87b3d8c4ff5a301770a026d7897",
            "4f3b82f1a1ac401dad1c447bb9e2e76c",
            "7dcc34212ea049c38831f2afe5f71dfd",
            "d946f41447d746f7bc867f55c2b13d67"
          ]
        },
        "outputId": "33fa20a6-ffc3-4b1b-a34d-1680e7be6e7b"
      },
      "outputs": [
        {
          "output_type": "stream",
          "name": "stdout",
          "text": [
            "Downloading http://ai.stanford.edu/~jkrause/car196/cars_test.tgz to /content/stanford_cars_dataset/cars_test.tgz\n"
          ]
        },
        {
          "output_type": "display_data",
          "data": {
            "text/plain": [
              "  0%|          | 0/977350468 [00:00<?, ?it/s]"
            ],
            "application/vnd.jupyter.widget-view+json": {
              "version_major": 2,
              "version_minor": 0,
              "model_id": "a2cb11177ef04a8ab3db350dd9231fd4"
            }
          },
          "metadata": {}
        },
        {
          "output_type": "stream",
          "name": "stdout",
          "text": [
            "Downloading http://ai.stanford.edu/~jkrause/car196/cars_train.tgz to /content/stanford_cars_dataset/cars_train.tgz\n"
          ]
        },
        {
          "output_type": "display_data",
          "data": {
            "text/plain": [
              "  0%|          | 0/979269282 [00:00<?, ?it/s]"
            ],
            "application/vnd.jupyter.widget-view+json": {
              "version_major": 2,
              "version_minor": 0,
              "model_id": "bd243f26549d4da0ac81cec6bd6bfe44"
            }
          },
          "metadata": {}
        }
      ],
      "source": [
        "# Dataset and dataloader\n",
        "car_test_data = CarDataset(root=root, download=True, transform=compose, train=False)\n",
        "car_train_valid_data = CarDataset(root=root, download=True, transform=compose, train=True)\n",
        "train_size = int(0.9*len(car_train_valid_data))\n",
        "val_size = len(car_train_valid_data) - train_size\n",
        "\n",
        "car_train_data, car_val_data = random_split(car_train_valid_data, [train_size, val_size])\n",
        "train_loader = DataLoader(car_train_data, batch_size=args['batch_size'], num_workers=2, pin_memory=True)\n",
        "val_loader = DataLoader(car_val_data, batch_size=args['batch_size'], num_workers=2, pin_memory=True)\n",
        "test_loader = DataLoader(car_test_data, batch_size=args['batch_size'], num_workers=2, pin_memory=True)"
      ]
    },
    {
      "cell_type": "code",
      "source": [
        "# Models\n",
        "resnet_18 = Net(resnet_version=18, start_frozen=False)\n",
        "resnet_18.to(device)\n",
        "resnet_34 = Net(resnet_version=34, start_frozen=False)\n",
        "resnet_34.to(device)\n",
        "resnet_50 = Net(resnet_version=50, start_frozen=False)\n",
        "resnet_50.to(device)"
      ],
      "metadata": {
        "id": "dOQAj5AidVYv"
      },
      "execution_count": null,
      "outputs": []
    },
    {
      "cell_type": "code",
      "execution_count": 23,
      "metadata": {
        "id": "H71ISc0hOIxc"
      },
      "outputs": [],
      "source": [
        "@torch.no_grad()\n",
        "def test(model, validation=True, compute_matrix=True):\n",
        "    model.eval()\n",
        "    confusion_matrix = np.zeros((196,196))\n",
        "    total_num_correct = 0\n",
        "    batch = 0\n",
        "    total_loss = 0\n",
        "    criterion = nn.CrossEntropyLoss()\n",
        "    data_loader = val_loader if validation else test_loader\n",
        "\n",
        "    for batch, sample in enumerate(data_loader):\n",
        "      x = sample['image'].cuda(non_blocking=True)\n",
        "      y = sample['label'].cuda(non_blocking=True)\n",
        "      batch += 1\n",
        "\n",
        "      y_hat = model(x)\n",
        "      total_loss += criterion(y_hat, y)\n",
        "      prediction = torch.argmax(y_hat, dim=1)\n",
        "      ground_truth = torch.argmax(y,dim=1)\n",
        "\n",
        "      num_correct = torch.eq(prediction, ground_truth).sum().item()\n",
        "      total_num_correct += num_correct\n",
        "\n",
        "      if compute_matrix and not validation:\n",
        "        for i in range(ground_truth.shape[-1]):\n",
        "          confusion_matrix[ground_truth[i].item()][prediction[i].item()] += 1\n",
        "      \n",
        "    model.train()\n",
        "    if validation:\n",
        "      acc = total_num_correct / len(car_val_data)\n",
        "    else:\n",
        "      acc = total_num_correct / len(car_test_data)\n",
        "    return acc, total_loss/batch, confusion_matrix"
      ]
    },
    {
      "cell_type": "code",
      "execution_count": 37,
      "metadata": {
        "id": "9e1gTgLBOIxb"
      },
      "outputs": [],
      "source": [
        "# Your Code Here\n",
        "def train(model, model_unfreeze=0):\n",
        "    \"\"\"Fine-tunes a ResNet\n",
        "    Args:\n",
        "        start_frozen (bool): whether to start with the network weights frozen.\n",
        "        model_unfreeze (int): the maximum number of network layers to unfreeze\n",
        "    \"\"\"\n",
        "    optimizer = optim.Adam(model.parameters(), lr=args['lr'])\n",
        "    criterion = nn.CrossEntropyLoss()\n",
        "\n",
        "    train_losses = []\n",
        "    val_accs = []\n",
        "    test_accs = []\n",
        "\n",
        "\n",
        "    for epoch in range(args['epoch']):\n",
        "      loop = tqdm(total=len(train_loader), position=0, leave=False)\n",
        "\n",
        "      if epoch < model_unfreeze:\n",
        "        # Unfreeze the last layers, one more each epoch\n",
        "        model.unfreeze(epoch+1)\n",
        "\n",
        "      if epoch == args['epoch'] / 2:\n",
        "        for g in optimizer.param_groups:\n",
        "          g['lr'] = 3e-5\n",
        "\n",
        "      for batch, sample in enumerate(train_loader):\n",
        "        x = sample['image'].cuda(non_blocking=True)\n",
        "        y = sample['label'].cuda(non_blocking=True)\n",
        "\n",
        "        optimizer.zero_grad()\n",
        "        y_hat = model(x)\n",
        "\n",
        "        loss = criterion(y_hat, y)\n",
        "        loss.backward()\n",
        "        train_losses.append(loss.item())\n",
        "\n",
        "        loop.set_description('\\tepoch:{}, loss:{:.4f}'.format(epoch, loss))\n",
        "        loop.update(1)\n",
        "\n",
        "        optimizer.step()\n",
        "\n",
        "      val_acc, val_loss, confusion_matrix = test(model, validation=True, compute_matrix=False)\n",
        "      val_accs.append(val_acc)\n",
        "\n",
        "      if (epoch+1) % args['test_every_n_epochs'] == 0:\n",
        "        test_acc, test_loss, confusion_matrix = test(model, validation=False, compute_matrix=False)\n",
        "        test_accs.append(test_acc)\n",
        "      loop.close()\n",
        "\n",
        "      print('\\tepoch:{}, validation accuracy:{:.2f}%, training loss:{:.4f}'.format(epoch, val_acc*100, train_losses[-1]))\n",
        "    \n",
        "    return train_losses, val_accs, test_accs"
      ]
    },
    {
      "cell_type": "code",
      "execution_count": 40,
      "metadata": {
        "colab": {
          "base_uri": "https://localhost:8080/"
        },
        "id": "0os4Q27gk7s9",
        "outputId": "cbf9b682-c6ab-4bc1-8d53-57c67c4622cd"
      },
      "outputs": [
        {
          "output_type": "stream",
          "name": "stdout",
          "text": [
            "Training ResNet 34\n"
          ]
        },
        {
          "output_type": "stream",
          "name": "stderr",
          "text": [
            ""
          ]
        },
        {
          "output_type": "stream",
          "name": "stdout",
          "text": [
            "\tepoch:0, validation accuracy:33.01%, training loss:2.8296\n"
          ]
        },
        {
          "output_type": "stream",
          "name": "stderr",
          "text": [
            ""
          ]
        },
        {
          "output_type": "stream",
          "name": "stdout",
          "text": [
            "\tepoch:1, validation accuracy:54.72%, training loss:0.9845\n"
          ]
        },
        {
          "output_type": "stream",
          "name": "stderr",
          "text": [
            ""
          ]
        },
        {
          "output_type": "stream",
          "name": "stdout",
          "text": [
            "\tepoch:2, validation accuracy:60.49%, training loss:0.3314\n"
          ]
        },
        {
          "output_type": "stream",
          "name": "stderr",
          "text": [
            ""
          ]
        },
        {
          "output_type": "stream",
          "name": "stdout",
          "text": [
            "\tepoch:3, validation accuracy:58.77%, training loss:0.1874\n"
          ]
        },
        {
          "output_type": "stream",
          "name": "stderr",
          "text": [
            ""
          ]
        },
        {
          "output_type": "stream",
          "name": "stdout",
          "text": [
            "\tepoch:4, validation accuracy:65.89%, training loss:0.0590\n"
          ]
        },
        {
          "output_type": "stream",
          "name": "stderr",
          "text": [
            ""
          ]
        },
        {
          "output_type": "stream",
          "name": "stdout",
          "text": [
            "\tepoch:5, validation accuracy:78.53%, training loss:0.0363\n"
          ]
        },
        {
          "output_type": "stream",
          "name": "stderr",
          "text": [
            ""
          ]
        },
        {
          "output_type": "stream",
          "name": "stdout",
          "text": [
            "\tepoch:6, validation accuracy:79.51%, training loss:0.0164\n"
          ]
        },
        {
          "output_type": "stream",
          "name": "stderr",
          "text": [
            ""
          ]
        },
        {
          "output_type": "stream",
          "name": "stdout",
          "text": [
            "\tepoch:7, validation accuracy:80.49%, training loss:0.0222\n"
          ]
        },
        {
          "output_type": "stream",
          "name": "stderr",
          "text": [
            ""
          ]
        },
        {
          "output_type": "stream",
          "name": "stdout",
          "text": [
            "\tepoch:8, validation accuracy:79.75%, training loss:0.0384\n"
          ]
        },
        {
          "output_type": "stream",
          "name": "stderr",
          "text": [
            ""
          ]
        },
        {
          "output_type": "stream",
          "name": "stdout",
          "text": [
            "\tepoch:9, validation accuracy:79.75%, training loss:0.0111\n",
            "\n",
            "Training ResNet 18\n"
          ]
        },
        {
          "output_type": "stream",
          "name": "stderr",
          "text": [
            ""
          ]
        },
        {
          "output_type": "stream",
          "name": "stdout",
          "text": [
            "\tepoch:0, validation accuracy:31.41%, training loss:3.1566\n"
          ]
        },
        {
          "output_type": "stream",
          "name": "stderr",
          "text": [
            ""
          ]
        },
        {
          "output_type": "stream",
          "name": "stdout",
          "text": [
            "\tepoch:1, validation accuracy:49.69%, training loss:1.2000\n"
          ]
        },
        {
          "output_type": "stream",
          "name": "stderr",
          "text": [
            ""
          ]
        },
        {
          "output_type": "stream",
          "name": "stdout",
          "text": [
            "\tepoch:2, validation accuracy:63.44%, training loss:0.3466\n"
          ]
        },
        {
          "output_type": "stream",
          "name": "stderr",
          "text": [
            ""
          ]
        },
        {
          "output_type": "stream",
          "name": "stdout",
          "text": [
            "\tepoch:3, validation accuracy:73.13%, training loss:0.1381\n"
          ]
        },
        {
          "output_type": "stream",
          "name": "stderr",
          "text": [
            ""
          ]
        },
        {
          "output_type": "stream",
          "name": "stdout",
          "text": [
            "\tepoch:4, validation accuracy:73.25%, training loss:0.0633\n"
          ]
        },
        {
          "output_type": "stream",
          "name": "stderr",
          "text": [
            ""
          ]
        },
        {
          "output_type": "stream",
          "name": "stdout",
          "text": [
            "\tepoch:5, validation accuracy:78.28%, training loss:0.0425\n"
          ]
        },
        {
          "output_type": "stream",
          "name": "stderr",
          "text": [
            ""
          ]
        },
        {
          "output_type": "stream",
          "name": "stdout",
          "text": [
            "\tepoch:6, validation accuracy:79.88%, training loss:0.0455\n"
          ]
        },
        {
          "output_type": "stream",
          "name": "stderr",
          "text": [
            ""
          ]
        },
        {
          "output_type": "stream",
          "name": "stdout",
          "text": [
            "\tepoch:7, validation accuracy:80.49%, training loss:0.0399\n"
          ]
        },
        {
          "output_type": "stream",
          "name": "stderr",
          "text": [
            ""
          ]
        },
        {
          "output_type": "stream",
          "name": "stdout",
          "text": [
            "\tepoch:8, validation accuracy:80.25%, training loss:0.0309\n"
          ]
        },
        {
          "output_type": "stream",
          "name": "stderr",
          "text": [
            ""
          ]
        },
        {
          "output_type": "stream",
          "name": "stdout",
          "text": [
            "\tepoch:9, validation accuracy:80.61%, training loss:0.0306\n",
            "\n",
            "Training ResNet 50\n"
          ]
        },
        {
          "output_type": "stream",
          "name": "stderr",
          "text": [
            ""
          ]
        },
        {
          "output_type": "stream",
          "name": "stdout",
          "text": [
            "\tepoch:0, validation accuracy:29.57%, training loss:2.8425\n"
          ]
        },
        {
          "output_type": "stream",
          "name": "stderr",
          "text": [
            ""
          ]
        },
        {
          "output_type": "stream",
          "name": "stdout",
          "text": [
            "\tepoch:1, validation accuracy:54.72%, training loss:1.2161\n"
          ]
        },
        {
          "output_type": "stream",
          "name": "stderr",
          "text": [
            ""
          ]
        },
        {
          "output_type": "stream",
          "name": "stdout",
          "text": [
            "\tepoch:2, validation accuracy:58.28%, training loss:0.5301\n"
          ]
        },
        {
          "output_type": "stream",
          "name": "stderr",
          "text": [
            ""
          ]
        },
        {
          "output_type": "stream",
          "name": "stdout",
          "text": [
            "\tepoch:3, validation accuracy:65.40%, training loss:0.2207\n"
          ]
        },
        {
          "output_type": "stream",
          "name": "stderr",
          "text": [
            ""
          ]
        },
        {
          "output_type": "stream",
          "name": "stdout",
          "text": [
            "\tepoch:4, validation accuracy:69.57%, training loss:0.1220\n"
          ]
        },
        {
          "output_type": "stream",
          "name": "stderr",
          "text": [
            ""
          ]
        },
        {
          "output_type": "stream",
          "name": "stdout",
          "text": [
            "\tepoch:5, validation accuracy:82.33%, training loss:0.0397\n"
          ]
        },
        {
          "output_type": "stream",
          "name": "stderr",
          "text": [
            ""
          ]
        },
        {
          "output_type": "stream",
          "name": "stdout",
          "text": [
            "\tepoch:6, validation accuracy:83.44%, training loss:0.0428\n"
          ]
        },
        {
          "output_type": "stream",
          "name": "stderr",
          "text": [
            ""
          ]
        },
        {
          "output_type": "stream",
          "name": "stdout",
          "text": [
            "\tepoch:7, validation accuracy:82.45%, training loss:0.0268\n"
          ]
        },
        {
          "output_type": "stream",
          "name": "stderr",
          "text": [
            ""
          ]
        },
        {
          "output_type": "stream",
          "name": "stdout",
          "text": [
            "\tepoch:8, validation accuracy:82.58%, training loss:0.0222\n"
          ]
        },
        {
          "output_type": "stream",
          "name": "stderr",
          "text": [
            "                                                                        "
          ]
        },
        {
          "output_type": "stream",
          "name": "stdout",
          "text": [
            "\tepoch:9, validation accuracy:83.80%, training loss:0.0216\n"
          ]
        },
        {
          "output_type": "stream",
          "name": "stderr",
          "text": [
            "\r"
          ]
        }
      ],
      "source": [
        "print('Training ResNet 34')\n",
        "res34_train_losses, _, res34_test_accs = train(model=resnet_34, model_unfreeze=0)\n",
        "print('\\nTraining ResNet 18')\n",
        "res18_train_losses, _, res18_test_accs = train(model=resnet_18, model_unfreeze=0)\n",
        "print('\\nTraining ResNet 50')\n",
        "res50_train_losses, _, res50_test_accs = train(model=resnet_50, model_unfreeze=0)"
      ]
    },
    {
      "cell_type": "code",
      "source": [
        "# ResNet 101\n",
        "resnet_101 = Net(resnet_version=101, start_frozen=False)\n",
        "resnet_101.to(device)\n",
        "print('Training ResNet 101')\n",
        "res101_train_losses, _, res101_test_accs = train(model=resnet_101, model_unfreeze=0)"
      ],
      "metadata": {
        "colab": {
          "base_uri": "https://localhost:8080/"
        },
        "id": "UpOSXK2PU57n",
        "outputId": "5756fcfd-dc06-4b7b-ecc2-16ef8caa3f00"
      },
      "execution_count": 62,
      "outputs": [
        {
          "output_type": "stream",
          "name": "stdout",
          "text": [
            "Training ResNet 101\n"
          ]
        },
        {
          "output_type": "stream",
          "name": "stderr",
          "text": [
            ""
          ]
        },
        {
          "output_type": "stream",
          "name": "stdout",
          "text": [
            "\tepoch:0, validation accuracy:20.49%, training loss:2.7988\n"
          ]
        },
        {
          "output_type": "stream",
          "name": "stderr",
          "text": [
            ""
          ]
        },
        {
          "output_type": "stream",
          "name": "stdout",
          "text": [
            "\tepoch:1, validation accuracy:45.52%, training loss:1.3406\n"
          ]
        },
        {
          "output_type": "stream",
          "name": "stderr",
          "text": [
            ""
          ]
        },
        {
          "output_type": "stream",
          "name": "stdout",
          "text": [
            "\tepoch:2, validation accuracy:58.65%, training loss:0.5865\n"
          ]
        },
        {
          "output_type": "stream",
          "name": "stderr",
          "text": [
            ""
          ]
        },
        {
          "output_type": "stream",
          "name": "stdout",
          "text": [
            "\tepoch:3, validation accuracy:67.12%, training loss:0.3471\n"
          ]
        },
        {
          "output_type": "stream",
          "name": "stderr",
          "text": [
            ""
          ]
        },
        {
          "output_type": "stream",
          "name": "stdout",
          "text": [
            "\tepoch:4, validation accuracy:68.22%, training loss:0.2389\n"
          ]
        },
        {
          "output_type": "stream",
          "name": "stderr",
          "text": [
            ""
          ]
        },
        {
          "output_type": "stream",
          "name": "stdout",
          "text": [
            "\tepoch:5, validation accuracy:82.21%, training loss:0.0791\n"
          ]
        },
        {
          "output_type": "stream",
          "name": "stderr",
          "text": [
            ""
          ]
        },
        {
          "output_type": "stream",
          "name": "stdout",
          "text": [
            "\tepoch:6, validation accuracy:83.56%, training loss:0.0256\n"
          ]
        },
        {
          "output_type": "stream",
          "name": "stderr",
          "text": [
            ""
          ]
        },
        {
          "output_type": "stream",
          "name": "stdout",
          "text": [
            "\tepoch:7, validation accuracy:83.80%, training loss:0.0294\n"
          ]
        },
        {
          "output_type": "stream",
          "name": "stderr",
          "text": [
            ""
          ]
        },
        {
          "output_type": "stream",
          "name": "stdout",
          "text": [
            "\tepoch:8, validation accuracy:84.29%, training loss:0.0223\n"
          ]
        },
        {
          "output_type": "stream",
          "name": "stderr",
          "text": [
            "                                                                        "
          ]
        },
        {
          "output_type": "stream",
          "name": "stdout",
          "text": [
            "\tepoch:9, validation accuracy:83.44%, training loss:0.0186\n"
          ]
        },
        {
          "output_type": "stream",
          "name": "stderr",
          "text": [
            "\r"
          ]
        }
      ]
    },
    {
      "cell_type": "code",
      "source": [
        "# Unfreezing ResNet 50\n",
        "resnet50_frozen = Net(resnet_version=50, start_frozen=True)\n",
        "resnet50_frozen.to(device)\n",
        "print('Training ResNet 50 - unfreeze gradually')\n",
        "res50_unfreezing_train_losses, _, res50_unfreezing_test_accs = train(model=resnet_50, model_unfreeze=20)"
      ],
      "metadata": {
        "colab": {
          "base_uri": "https://localhost:8080/"
        },
        "id": "1lThlAbIUwOL",
        "outputId": "b6a347ff-fffb-451e-c434-571e6880c32c"
      },
      "execution_count": 68,
      "outputs": [
        {
          "output_type": "stream",
          "name": "stdout",
          "text": [
            "Training ResNet 50 - unfreeze gradually\n"
          ]
        },
        {
          "output_type": "stream",
          "name": "stderr",
          "text": [
            ""
          ]
        },
        {
          "output_type": "stream",
          "name": "stdout",
          "text": [
            "\tepoch:0, validation accuracy:60.86%, training loss:0.1993\n"
          ]
        },
        {
          "output_type": "stream",
          "name": "stderr",
          "text": [
            ""
          ]
        },
        {
          "output_type": "stream",
          "name": "stdout",
          "text": [
            "\tepoch:1, validation accuracy:65.40%, training loss:0.1382\n"
          ]
        },
        {
          "output_type": "stream",
          "name": "stderr",
          "text": [
            ""
          ]
        },
        {
          "output_type": "stream",
          "name": "stdout",
          "text": [
            "\tepoch:2, validation accuracy:63.31%, training loss:0.0678\n"
          ]
        },
        {
          "output_type": "stream",
          "name": "stderr",
          "text": [
            ""
          ]
        },
        {
          "output_type": "stream",
          "name": "stdout",
          "text": [
            "\tepoch:3, validation accuracy:69.57%, training loss:0.1581\n"
          ]
        },
        {
          "output_type": "stream",
          "name": "stderr",
          "text": [
            ""
          ]
        },
        {
          "output_type": "stream",
          "name": "stdout",
          "text": [
            "\tepoch:4, validation accuracy:67.73%, training loss:0.0502\n"
          ]
        },
        {
          "output_type": "stream",
          "name": "stderr",
          "text": [
            ""
          ]
        },
        {
          "output_type": "stream",
          "name": "stdout",
          "text": [
            "\tepoch:5, validation accuracy:83.07%, training loss:0.0056\n"
          ]
        },
        {
          "output_type": "stream",
          "name": "stderr",
          "text": [
            ""
          ]
        },
        {
          "output_type": "stream",
          "name": "stdout",
          "text": [
            "\tepoch:6, validation accuracy:82.70%, training loss:0.0256\n"
          ]
        },
        {
          "output_type": "stream",
          "name": "stderr",
          "text": [
            ""
          ]
        },
        {
          "output_type": "stream",
          "name": "stdout",
          "text": [
            "\tepoch:7, validation accuracy:84.91%, training loss:0.0127\n"
          ]
        },
        {
          "output_type": "stream",
          "name": "stderr",
          "text": [
            ""
          ]
        },
        {
          "output_type": "stream",
          "name": "stdout",
          "text": [
            "\tepoch:8, validation accuracy:83.56%, training loss:0.0051\n"
          ]
        },
        {
          "output_type": "stream",
          "name": "stderr",
          "text": [
            "                                                                        "
          ]
        },
        {
          "output_type": "stream",
          "name": "stdout",
          "text": [
            "\tepoch:9, validation accuracy:83.93%, training loss:0.0033\n"
          ]
        },
        {
          "output_type": "stream",
          "name": "stderr",
          "text": [
            "\r"
          ]
        }
      ]
    },
    {
      "cell_type": "code",
      "execution_count": 70,
      "metadata": {
        "colab": {
          "base_uri": "https://localhost:8080/",
          "height": 648
        },
        "id": "kOop9m0buC8u",
        "outputId": "0cb738ca-e6fd-413d-e4ce-039731732133"
      },
      "outputs": [
        {
          "output_type": "display_data",
          "data": {
            "text/plain": [
              "<Figure size 1440x720 with 1 Axes>"
            ],
            "image/png": "[encoded data removed]"
          },
          "metadata": {
            "needs_background": "light"
          }
        }
      ],
      "source": [
        "plt.rcParams['figure.figsize'] = [20,10]\n",
        "plt.rcParams['font.size'] = 20\n",
        "plt.subplot()\n",
        "plt.plot(res18_train_losses, label='ResNet 18')\n",
        "plt.plot(res34_train_losses, label='ResNet 34')\n",
        "plt.plot(res50_train_losses, label='ResNet 50')\n",
        "plt.plot(res101_train_losses, label='ResNet 101')\n",
        "plt.plot(res50_unfreezing_train_losses, label='ResNet 50 Frozen')\n",
        "plt.title('Training Loss vs. Time')\n",
        "plt.ylabel('Training Loss')\n",
        "# plt.yscale('log')\n",
        "plt.xlabel('Time')\n",
        "plt.legend()\n",
        "plt.show()"
      ]
    },
    {
      "cell_type": "markdown",
      "metadata": {
        "id": "13ZCvOleOIxb"
      },
      "source": [
        "# Part D: Testing\n",
        "\n",
        "One of the goals of deep learning is to make a model that generalizes to data it has never seen (e.g. new images of cars).  For this part, you will test your generalizability by running the model on a dataset it has not yet seen during training.  To do so, you will need to make sure you are not calculating any gradients by using `torch.no_grad` in a with statement. You will also need to put the network into evaluation mode:\n",
        "```Python\n",
        "model.eval()\n",
        "with torch.no_grad():\n",
        "    # enter testing code here\n",
        "```\n",
        "\n",
        "To put the network back into training mode, call `model.train()`.\n",
        "\n",
        "You will also need to compare your actual predictions with the ground truth, value for value.  The output of your network, however, will be a vector of length 196 (the number of possible classes for the cars dataset) with the largest value representing the guessed class.  You will need to extract the predicted class number and compare it with the ground truth class number for all images in the test dataset and calculate the overall accuracy.  **Print out the overall accuacy of your model**.\n",
        "\n",
        "Additionally, **you will need to generate a confusion matrix of the 196 categories**. A confusion matrix shows how often a specific category is guessed as each other category. For example, the 11th row and 34th column in the matrix should tell you how many times category 11 images were guessed to be category 34 images. Thus, a perfect predictor on the test set would have nonzero values only along the diagnol. Once you generated the confusion matrix, you may simply plot it as a grayscale image (with interpolation turned off).\n",
        "\n",
        "While high test accuracy is not the only goal in this lab, most students are able to get above 50% in their testing accuracy. If you are unable to reach this level of accuracy, it may indicate an error in your code."
      ]
    },
    {
      "cell_type": "code",
      "source": [
        "# For confusion matrix\n",
        "test_acc, test_loss, confusion_matrix = test(resnet_50, validation=False, compute_matrix=True)"
      ],
      "metadata": {
        "id": "s57VWsf7TUHJ"
      },
      "execution_count": 53,
      "outputs": []
    },
    {
      "cell_type": "code",
      "source": [
        "# Plot Test Accuracy vs. Epoch vs. Different ResNets\n",
        "plt.rcParams['figure.figsize'] = [15,10]\n",
        "plt.subplot()\n",
        "epoch_x = [2,4,6,8,10]\n",
        "plt.plot(epoch_x, res18_test_accs, label='ResNet 18')\n",
        "plt.plot(epoch_x, res34_test_accs, label='ResNet 34')\n",
        "plt.plot(epoch_x, res50_test_accs, label='ResNet 50')\n",
        "plt.plot(epoch_x, res101_test_accs, label='ResNet 101')\n",
        "plt.plot(epoch_x, res50_unfreezing_test_accs, label='ResNet 50 Frozen')\n",
        "plt.title('Test Accuracy vs. Epoch vs. Different ResNets')\n",
        "plt.ylabel('Test Accuracy')\n",
        "plt.xlabel('Epoch')\n",
        "plt.legend()\n",
        "plt.grid()\n",
        "plt.show()\n",
        "print('Test accuracy after {:} epochs:'.format(args['epoch']))\n",
        "print('ResNet 18: {:.2f}%'.format(res18_test_accs[-1]*100))\n",
        "print('ResNet 34: {:.2f}%'.format(res34_test_accs[-1]*100))\n",
        "print('ResNet 50: {:.2f}%'.format(res50_test_accs[-1]*100))\n",
        "print('ResNet 101: {:.2f}%'.format(res101_test_accs[-1]*100))\n",
        "print('ResNet 50 Frozen: {:.2f}% (the highest)'.format(res50_unfreezing_test_accs[-1]*100))"
      ],
      "metadata": {
        "colab": {
          "base_uri": "https://localhost:8080/",
          "height": 757
        },
        "id": "lSo7dr6VTc5h",
        "outputId": "e74e0d79-e3e9-492d-e6e0-16f40bd654c4"
      },
      "execution_count": 75,
      "outputs": [
        {
          "output_type": "display_data",
          "data": {
            "text/plain": [
              "<Figure size 1080x720 with 1 Axes>"
            ],
            "image/png": "[encoded data removed]"
          },
          "metadata": {
            "needs_background": "light"
          }
        },
        {
          "output_type": "stream",
          "name": "stdout",
          "text": [
            "Test accuracy after 10 epochs:\n",
            "ResNet 18: 81.10%\n",
            "ResNet 34: 82.22%\n",
            "ResNet 50: 83.91%\n",
            "ResNet 101: 84.01%\n",
            "ResNet 50 Frozen: 84.43% (the highest)\n"
          ]
        }
      ]
    },
    {
      "cell_type": "code",
      "source": [
        "plt.rcParams['figure.figsize'] = [15,15]\n",
        "plt.subplot()\n",
        "plt.imshow(confusion_matrix, cmap=plt.cm.Blues)"
      ],
      "metadata": {
        "colab": {
          "base_uri": "https://localhost:8080/",
          "height": 896
        },
        "id": "TgD_Js8Y_p4L",
        "outputId": "b410c286-433f-4ef2-e8a5-ca58795b0e01"
      },
      "execution_count": 56,
      "outputs": [
        {
          "output_type": "execute_result",
          "data": {
            "text/plain": [
              "<matplotlib.image.AxesImage at 0x7ff919722b50>"
            ]
          },
          "metadata": {},
          "execution_count": 56
        },
        {
          "output_type": "display_data",
          "data": {
            "text/plain": [
              "<Figure size 1080x1080 with 1 Axes>"
            ],
            "image/png": "[encoded data removed]"
          },
          "metadata": {
            "needs_background": "light"
          }
        }
      ]
    },
    {
      "cell_type": "markdown",
      "metadata": {
        "id": "-2mGeVPGOIxc"
      },
      "source": [
        "## Grading\n",
        "Points for this assigment will be assigned as follows (100 points total):\n",
        "* [20 pts] Making a Dataset class\n",
        "* [10 pts] Setting up you architecture\n",
        "* [20 pts] Training your model and plotting training loss\n",
        "* [30 pts] Displaying the overall accuracy of your model and a confusion matrix\n",
        "\n",
        "The last 20 points are earned through completing a subset of the following explorations:\n",
        "* [10 pts] Enhance your dataloader to include reflection data augmentation (i.e. double the size of your training data by taking the mirror image across the y-axis). **DO NOT** do reflection augmentation across the x-axis (we don't care to detect cars when they are upside down!). Describe what effects the augmentation had on testing accuracy.\n",
        "* [10 pts] Enhance your dataloader to include random resized crop data augmentation (i.e. increase the size of your training data by taking a subsection of your image each time). Make sure the crop is not too small, otherwise you might miss parts of the car. Describe what effects the augmentation had on testing accuracy.\n",
        "* [10 pts] Analyze the effect of learning rates on the accuracy of the network. Describe what you found and give supporting plots.\n",
        "* [10 pts] Analyze the effect of changing the number of training epochs on the accuracy of the network. Describe what you found and give supporting plots.\n",
        "* [10 pts] Analyze the effect of varying the batch_size on the accuracy of the network. Describe what you found and give supporting plots. \n",
        "* [10 pts] Analyze the effect of different optimizers on the accuracy of the network. Describe what you found and give supporting plots. A list of optimizers in Pytorch can be found [here](https://pytorch.org/docs/stable/optim.html).\n",
        "* [10 pts] Analyze the effect of different pretrained networks on the accuracy of the network. Describe what you found and give supporting plots. A list of pretrained networks in Pytorch can be found [here](https://pytorch.org/docs/stable/torchvision/models.html).\n",
        "\n",
        "You may earn up to 10 points extra credit for additional explorations you complete.\n",
        "\n",
        "An additional 15 points of extra credit will be given to the individual with the highest test accuracy."
      ]
    },
    {
      "cell_type": "markdown",
      "metadata": {
        "id": "My48rnc5OIxc"
      },
      "source": [
        "\n",
        "## Write-up:\n",
        "Provide an explanation for the following items:\n",
        "* Which part of this lab did you find most difficult?\n",
        "* What insight did you gain from analyzing the confusion matrix?\n",
        "* What insight did you gain from your explorations?\n",
        "* What improvements would you recommend for this lab?"
      ]
    },
    {
      "cell_type": "markdown",
      "metadata": {
        "id": "MXAi-E4zOIxd"
      },
      "source": [
        "Your Write-up Here\n",
        "- I found the part A most difficult. My goal is to set up this notebook so that anyone can run it on google colab without uploading extra files. So I did not use the provided json files at all. Instead, I directly downloaded everything from the stanford-cars website, including images and labels. I spent most of my time trying to write the download and extraction part. I think the hours I put in are worth it because I learned a lot about managing downloads and files in colab.\n",
        "- My model is doing a pretty good job according to the confusion matrix. One thing interesting I found about the confusion matrix is that it seems like to be pretty symmetric. I guess there are certain pairs of car models that cannot be distinguished by the model.\n",
        "- I tried: 1) random crop, 2) different epochs, and 3) different ResNet models. \n",
        "- - Random crop makes the test accuracy increase a little bit. \n",
        "- - More epochs lead to higher final test accuracy. After epoch 6 the test accuracy grows much more slowly. It might be caused by my learning rate. If I have time I would like to try using a scheduler to dynamically change the learning rate during training. \n",
        "- - ResNet with more layers performed better than with less layers. Models with less layers seem to learn faster due to their less amount of parameters but eventually they will end up with a lower test accuracy. My best model for now is a ResNet 50 with unfreezing mechanism. I think it can still perform better if I train it longer than 10 epochs.\n",
        "- Although I enjoy doing part 1, I think we should focus more on the training and testing part of the lab instead of building a dataset from scratch."
      ]
    }
  ],
  "metadata": {
    "accelerator": "GPU",
    "colab": {
      "collapsed_sections": [
        "FA5JYBZnT7oY"
      ],
      "name": "proj5-image-classification.ipynb",
      "provenance": []
    },
    "kernelspec": {
      "display_name": "Python 3",
      "language": "python",
      "name": "python3"
    },
    "language_info": {
      "codemirror_mode": {
        "name": "ipython",
        "version": 3
      },
      "file_extension": ".py",
      "mimetype": "text/x-python",
      "name": "python",
      "nbconvert_exporter": "python",
      "pygments_lexer": "ipython3",
      "version": "3.8.5"
    },
    "widgets": {
      "application/vnd.jupyter.widget-state+json": {
        "a2cb11177ef04a8ab3db350dd9231fd4": {
          "model_module": "@jupyter-widgets/controls",
          "model_name": "HBoxModel",
          "model_module_version": "1.5.0",
          "state": {
            "_dom_classes": [],
            "_model_module": "@jupyter-widgets/controls",
            "_model_module_version": "1.5.0",
            "_model_name": "HBoxModel",
            "_view_count": null,
            "_view_module": "@jupyter-widgets/controls",
            "_view_module_version": "1.5.0",
            "_view_name": "HBoxView",
            "box_style": "",
            "children": [
              "IPY_MODEL_9ccc5b13cb4a4ec080bc775fe3c55eb8",
              "IPY_MODEL_3c82d9cf55ff425e9b608fe20fe3b157",
              "IPY_MODEL_20b7645fe6bb4148adc32dd917e0085f"
            ],
            "layout": "IPY_MODEL_8c856918d2ef41e7a53c9140ed7ecbe7"
          }
        },
        "9ccc5b13cb4a4ec080bc775fe3c55eb8": {
          "model_module": "@jupyter-widgets/controls",
          "model_name": "HTMLModel",
          "model_module_version": "1.5.0",
          "state": {
            "_dom_classes": [],
            "_model_module": "@jupyter-widgets/controls",
            "_model_module_version": "1.5.0",
            "_model_name": "HTMLModel",
            "_view_count": null,
            "_view_module": "@jupyter-widgets/controls",
            "_view_module_version": "1.5.0",
            "_view_name": "HTMLView",
            "description": "",
            "description_tooltip": null,
            "layout": "IPY_MODEL_d8cbf48eaad44e09ad07e08d3c06ac26",
            "placeholder": "​",
            "style": "IPY_MODEL_2c1b4a90a3f94bbeb859b1ef8a1e5dc8",
            "value": ""
          }
        },
        "3c82d9cf55ff425e9b608fe20fe3b157": {
          "model_module": "@jupyter-widgets/controls",
          "model_name": "FloatProgressModel",
          "model_module_version": "1.5.0",
          "state": {
            "_dom_classes": [],
            "_model_module": "@jupyter-widgets/controls",
            "_model_module_version": "1.5.0",
            "_model_name": "FloatProgressModel",
            "_view_count": null,
            "_view_module": "@jupyter-widgets/controls",
            "_view_module_version": "1.5.0",
            "_view_name": "ProgressView",
            "bar_style": "success",
            "description": "",
            "description_tooltip": null,
            "layout": "IPY_MODEL_5116ee0aebad472baa019900d163dd49",
            "max": 977350468,
            "min": 0,
            "orientation": "horizontal",
            "style": "IPY_MODEL_4c88a74bcd3449eea8b525e417efae5a",
            "value": 977350468
          }
        },
        "20b7645fe6bb4148adc32dd917e0085f": {
          "model_module": "@jupyter-widgets/controls",
          "model_name": "HTMLModel",
          "model_module_version": "1.5.0",
          "state": {
            "_dom_classes": [],
            "_model_module": "@jupyter-widgets/controls",
            "_model_module_version": "1.5.0",
            "_model_name": "HTMLModel",
            "_view_count": null,
            "_view_module": "@jupyter-widgets/controls",
            "_view_module_version": "1.5.0",
            "_view_name": "HTMLView",
            "description": "",
            "description_tooltip": null,
            "layout": "IPY_MODEL_bb663bf045fa4a2889e35aa7a4b2a9c4",
            "placeholder": "​",
            "style": "IPY_MODEL_28a3e825617a455d872eccfc83537f32",
            "value": " 977350656/? [00:54&lt;00:00, 20477480.96it/s]"
          }
        },
        "8c856918d2ef41e7a53c9140ed7ecbe7": {
          "model_module": "@jupyter-widgets/base",
          "model_name": "LayoutModel",
          "model_module_version": "1.2.0",
          "state": {
            "_model_module": "@jupyter-widgets/base",
            "_model_module_version": "1.2.0",
            "_model_name": "LayoutModel",
            "_view_count": null,
            "_view_module": "@jupyter-widgets/base",
            "_view_module_version": "1.2.0",
            "_view_name": "LayoutView",
            "align_content": null,
            "align_items": null,
            "align_self": null,
            "border": null,
            "bottom": null,
            "display": null,
            "flex": null,
            "flex_flow": null,
            "grid_area": null,
            "grid_auto_columns": null,
            "grid_auto_flow": null,
            "grid_auto_rows": null,
            "grid_column": null,
            "grid_gap": null,
            "grid_row": null,
            "grid_template_areas": null,
            "grid_template_columns": null,
            "grid_template_rows": null,
            "height": null,
            "justify_content": null,
            "justify_items": null,
            "left": null,
            "margin": null,
            "max_height": null,
            "max_width": null,
            "min_height": null,
            "min_width": null,
            "object_fit": null,
            "object_position": null,
            "order": null,
            "overflow": null,
            "overflow_x": null,
            "overflow_y": null,
            "padding": null,
            "right": null,
            "top": null,
            "visibility": null,
            "width": null
          }
        },
        "d8cbf48eaad44e09ad07e08d3c06ac26": {
          "model_module": "@jupyter-widgets/base",
          "model_name": "LayoutModel",
          "model_module_version": "1.2.0",
          "state": {
            "_model_module": "@jupyter-widgets/base",
            "_model_module_version": "1.2.0",
            "_model_name": "LayoutModel",
            "_view_count": null,
            "_view_module": "@jupyter-widgets/base",
            "_view_module_version": "1.2.0",
            "_view_name": "LayoutView",
            "align_content": null,
            "align_items": null,
            "align_self": null,
            "border": null,
            "bottom": null,
            "display": null,
            "flex": null,
            "flex_flow": null,
            "grid_area": null,
            "grid_auto_columns": null,
            "grid_auto_flow": null,
            "grid_auto_rows": null,
            "grid_column": null,
            "grid_gap": null,
            "grid_row": null,
            "grid_template_areas": null,
            "grid_template_columns": null,
            "grid_template_rows": null,
            "height": null,
            "justify_content": null,
            "justify_items": null,
            "left": null,
            "margin": null,
            "max_height": null,
            "max_width": null,
            "min_height": null,
            "min_width": null,
            "object_fit": null,
            "object_position": null,
            "order": null,
            "overflow": null,
            "overflow_x": null,
            "overflow_y": null,
            "padding": null,
            "right": null,
            "top": null,
            "visibility": null,
            "width": null
          }
        },
        "2c1b4a90a3f94bbeb859b1ef8a1e5dc8": {
          "model_module": "@jupyter-widgets/controls",
          "model_name": "DescriptionStyleModel",
          "model_module_version": "1.5.0",
          "state": {
            "_model_module": "@jupyter-widgets/controls",
            "_model_module_version": "1.5.0",
            "_model_name": "DescriptionStyleModel",
            "_view_count": null,
            "_view_module": "@jupyter-widgets/base",
            "_view_module_version": "1.2.0",
            "_view_name": "StyleView",
            "description_width": ""
          }
        },
        "5116ee0aebad472baa019900d163dd49": {
          "model_module": "@jupyter-widgets/base",
          "model_name": "LayoutModel",
          "model_module_version": "1.2.0",
          "state": {
            "_model_module": "@jupyter-widgets/base",
            "_model_module_version": "1.2.0",
            "_model_name": "LayoutModel",
            "_view_count": null,
            "_view_module": "@jupyter-widgets/base",
            "_view_module_version": "1.2.0",
            "_view_name": "LayoutView",
            "align_content": null,
            "align_items": null,
            "align_self": null,
            "border": null,
            "bottom": null,
            "display": null,
            "flex": null,
            "flex_flow": null,
            "grid_area": null,
            "grid_auto_columns": null,
            "grid_auto_flow": null,
            "grid_auto_rows": null,
            "grid_column": null,
            "grid_gap": null,
            "grid_row": null,
            "grid_template_areas": null,
            "grid_template_columns": null,
            "grid_template_rows": null,
            "height": null,
            "justify_content": null,
            "justify_items": null,
            "left": null,
            "margin": null,
            "max_height": null,
            "max_width": null,
            "min_height": null,
            "min_width": null,
            "object_fit": null,
            "object_position": null,
            "order": null,
            "overflow": null,
            "overflow_x": null,
            "overflow_y": null,
            "padding": null,
            "right": null,
            "top": null,
            "visibility": null,
            "width": null
          }
        },
        "4c88a74bcd3449eea8b525e417efae5a": {
          "model_module": "@jupyter-widgets/controls",
          "model_name": "ProgressStyleModel",
          "model_module_version": "1.5.0",
          "state": {
            "_model_module": "@jupyter-widgets/controls",
            "_model_module_version": "1.5.0",
            "_model_name": "ProgressStyleModel",
            "_view_count": null,
            "_view_module": "@jupyter-widgets/base",
            "_view_module_version": "1.2.0",
            "_view_name": "StyleView",
            "bar_color": null,
            "description_width": ""
          }
        },
        "bb663bf045fa4a2889e35aa7a4b2a9c4": {
          "model_module": "@jupyter-widgets/base",
          "model_name": "LayoutModel",
          "model_module_version": "1.2.0",
          "state": {
            "_model_module": "@jupyter-widgets/base",
            "_model_module_version": "1.2.0",
            "_model_name": "LayoutModel",
            "_view_count": null,
            "_view_module": "@jupyter-widgets/base",
            "_view_module_version": "1.2.0",
            "_view_name": "LayoutView",
            "align_content": null,
            "align_items": null,
            "align_self": null,
            "border": null,
            "bottom": null,
            "display": null,
            "flex": null,
            "flex_flow": null,
            "grid_area": null,
            "grid_auto_columns": null,
            "grid_auto_flow": null,
            "grid_auto_rows": null,
            "grid_column": null,
            "grid_gap": null,
            "grid_row": null,
            "grid_template_areas": null,
            "grid_template_columns": null,
            "grid_template_rows": null,
            "height": null,
            "justify_content": null,
            "justify_items": null,
            "left": null,
            "margin": null,
            "max_height": null,
            "max_width": null,
            "min_height": null,
            "min_width": null,
            "object_fit": null,
            "object_position": null,
            "order": null,
            "overflow": null,
            "overflow_x": null,
            "overflow_y": null,
            "padding": null,
            "right": null,
            "top": null,
            "visibility": null,
            "width": null
          }
        },
        "28a3e825617a455d872eccfc83537f32": {
          "model_module": "@jupyter-widgets/controls",
          "model_name": "DescriptionStyleModel",
          "model_module_version": "1.5.0",
          "state": {
            "_model_module": "@jupyter-widgets/controls",
            "_model_module_version": "1.5.0",
            "_model_name": "DescriptionStyleModel",
            "_view_count": null,
            "_view_module": "@jupyter-widgets/base",
            "_view_module_version": "1.2.0",
            "_view_name": "StyleView",
            "description_width": ""
          }
        },
        "bd243f26549d4da0ac81cec6bd6bfe44": {
          "model_module": "@jupyter-widgets/controls",
          "model_name": "HBoxModel",
          "model_module_version": "1.5.0",
          "state": {
            "_dom_classes": [],
            "_model_module": "@jupyter-widgets/controls",
            "_model_module_version": "1.5.0",
            "_model_name": "HBoxModel",
            "_view_count": null,
            "_view_module": "@jupyter-widgets/controls",
            "_view_module_version": "1.5.0",
            "_view_name": "HBoxView",
            "box_style": "",
            "children": [
              "IPY_MODEL_485c790225fe431681d732a7b7359ba7",
              "IPY_MODEL_6b0d4816990e4afb87396fce2da47e08",
              "IPY_MODEL_54890ad7ec3647d3ba568eb0d4b424d6"
            ],
            "layout": "IPY_MODEL_9cefc2e9d0184ef4bd9ec63aa7f77d9d"
          }
        },
        "485c790225fe431681d732a7b7359ba7": {
          "model_module": "@jupyter-widgets/controls",
          "model_name": "HTMLModel",
          "model_module_version": "1.5.0",
          "state": {
            "_dom_classes": [],
            "_model_module": "@jupyter-widgets/controls",
            "_model_module_version": "1.5.0",
            "_model_name": "HTMLModel",
            "_view_count": null,
            "_view_module": "@jupyter-widgets/controls",
            "_view_module_version": "1.5.0",
            "_view_name": "HTMLView",
            "description": "",
            "description_tooltip": null,
            "layout": "IPY_MODEL_77446f0e17404bc0b1571fc74d53d2c5",
            "placeholder": "​",
            "style": "IPY_MODEL_52417aedffdd45468ed36f2a06ed028a",
            "value": ""
          }
        },
        "6b0d4816990e4afb87396fce2da47e08": {
          "model_module": "@jupyter-widgets/controls",
          "model_name": "FloatProgressModel",
          "model_module_version": "1.5.0",
          "state": {
            "_dom_classes": [],
            "_model_module": "@jupyter-widgets/controls",
            "_model_module_version": "1.5.0",
            "_model_name": "FloatProgressModel",
            "_view_count": null,
            "_view_module": "@jupyter-widgets/controls",
            "_view_module_version": "1.5.0",
            "_view_name": "ProgressView",
            "bar_style": "success",
            "description": "",
            "description_tooltip": null,
            "layout": "IPY_MODEL_090ab87b3d8c4ff5a301770a026d7897",
            "max": 979269282,
            "min": 0,
            "orientation": "horizontal",
            "style": "IPY_MODEL_4f3b82f1a1ac401dad1c447bb9e2e76c",
            "value": 979269282
          }
        },
        "54890ad7ec3647d3ba568eb0d4b424d6": {
          "model_module": "@jupyter-widgets/controls",
          "model_name": "HTMLModel",
          "model_module_version": "1.5.0",
          "state": {
            "_dom_classes": [],
            "_model_module": "@jupyter-widgets/controls",
            "_model_module_version": "1.5.0",
            "_model_name": "HTMLModel",
            "_view_count": null,
            "_view_module": "@jupyter-widgets/controls",
            "_view_module_version": "1.5.0",
            "_view_name": "HTMLView",
            "description": "",
            "description_tooltip": null,
            "layout": "IPY_MODEL_7dcc34212ea049c38831f2afe5f71dfd",
            "placeholder": "​",
            "style": "IPY_MODEL_d946f41447d746f7bc867f55c2b13d67",
            "value": " 979269632/? [01:00&lt;00:00, 16895909.37it/s]"
          }
        },
        "9cefc2e9d0184ef4bd9ec63aa7f77d9d": {
          "model_module": "@jupyter-widgets/base",
          "model_name": "LayoutModel",
          "model_module_version": "1.2.0",
          "state": {
            "_model_module": "@jupyter-widgets/base",
            "_model_module_version": "1.2.0",
            "_model_name": "LayoutModel",
            "_view_count": null,
            "_view_module": "@jupyter-widgets/base",
            "_view_module_version": "1.2.0",
            "_view_name": "LayoutView",
            "align_content": null,
            "align_items": null,
            "align_self": null,
            "border": null,
            "bottom": null,
            "display": null,
            "flex": null,
            "flex_flow": null,
            "grid_area": null,
            "grid_auto_columns": null,
            "grid_auto_flow": null,
            "grid_auto_rows": null,
            "grid_column": null,
            "grid_gap": null,
            "grid_row": null,
            "grid_template_areas": null,
            "grid_template_columns": null,
            "grid_template_rows": null,
            "height": null,
            "justify_content": null,
            "justify_items": null,
            "left": null,
            "margin": null,
            "max_height": null,
            "max_width": null,
            "min_height": null,
            "min_width": null,
            "object_fit": null,
            "object_position": null,
            "order": null,
            "overflow": null,
            "overflow_x": null,
            "overflow_y": null,
            "padding": null,
            "right": null,
            "top": null,
            "visibility": null,
            "width": null
          }
        },
        "77446f0e17404bc0b1571fc74d53d2c5": {
          "model_module": "@jupyter-widgets/base",
          "model_name": "LayoutModel",
          "model_module_version": "1.2.0",
          "state": {
            "_model_module": "@jupyter-widgets/base",
            "_model_module_version": "1.2.0",
            "_model_name": "LayoutModel",
            "_view_count": null,
            "_view_module": "@jupyter-widgets/base",
            "_view_module_version": "1.2.0",
            "_view_name": "LayoutView",
            "align_content": null,
            "align_items": null,
            "align_self": null,
            "border": null,
            "bottom": null,
            "display": null,
            "flex": null,
            "flex_flow": null,
            "grid_area": null,
            "grid_auto_columns": null,
            "grid_auto_flow": null,
            "grid_auto_rows": null,
            "grid_column": null,
            "grid_gap": null,
            "grid_row": null,
            "grid_template_areas": null,
            "grid_template_columns": null,
            "grid_template_rows": null,
            "height": null,
            "justify_content": null,
            "justify_items": null,
            "left": null,
            "margin": null,
            "max_height": null,
            "max_width": null,
            "min_height": null,
            "min_width": null,
            "object_fit": null,
            "object_position": null,
            "order": null,
            "overflow": null,
            "overflow_x": null,
            "overflow_y": null,
            "padding": null,
            "right": null,
            "top": null,
            "visibility": null,
            "width": null
          }
        },
        "52417aedffdd45468ed36f2a06ed028a": {
          "model_module": "@jupyter-widgets/controls",
          "model_name": "DescriptionStyleModel",
          "model_module_version": "1.5.0",
          "state": {
            "_model_module": "@jupyter-widgets/controls",
            "_model_module_version": "1.5.0",
            "_model_name": "DescriptionStyleModel",
            "_view_count": null,
            "_view_module": "@jupyter-widgets/base",
            "_view_module_version": "1.2.0",
            "_view_name": "StyleView",
            "description_width": ""
          }
        },
        "090ab87b3d8c4ff5a301770a026d7897": {
          "model_module": "@jupyter-widgets/base",
          "model_name": "LayoutModel",
          "model_module_version": "1.2.0",
          "state": {
            "_model_module": "@jupyter-widgets/base",
            "_model_module_version": "1.2.0",
            "_model_name": "LayoutModel",
            "_view_count": null,
            "_view_module": "@jupyter-widgets/base",
            "_view_module_version": "1.2.0",
            "_view_name": "LayoutView",
            "align_content": null,
            "align_items": null,
            "align_self": null,
            "border": null,
            "bottom": null,
            "display": null,
            "flex": null,
            "flex_flow": null,
            "grid_area": null,
            "grid_auto_columns": null,
            "grid_auto_flow": null,
            "grid_auto_rows": null,
            "grid_column": null,
            "grid_gap": null,
            "grid_row": null,
            "grid_template_areas": null,
            "grid_template_columns": null,
            "grid_template_rows": null,
            "height": null,
            "justify_content": null,
            "justify_items": null,
            "left": null,
            "margin": null,
            "max_height": null,
            "max_width": null,
            "min_height": null,
            "min_width": null,
            "object_fit": null,
            "object_position": null,
            "order": null,
            "overflow": null,
            "overflow_x": null,
            "overflow_y": null,
            "padding": null,
            "right": null,
            "top": null,
            "visibility": null,
            "width": null
          }
        },
        "4f3b82f1a1ac401dad1c447bb9e2e76c": {
          "model_module": "@jupyter-widgets/controls",
          "model_name": "ProgressStyleModel",
          "model_module_version": "1.5.0",
          "state": {
            "_model_module": "@jupyter-widgets/controls",
            "_model_module_version": "1.5.0",
            "_model_name": "ProgressStyleModel",
            "_view_count": null,
            "_view_module": "@jupyter-widgets/base",
            "_view_module_version": "1.2.0",
            "_view_name": "StyleView",
            "bar_color": null,
            "description_width": ""
          }
        },
        "7dcc34212ea049c38831f2afe5f71dfd": {
          "model_module": "@jupyter-widgets/base",
          "model_name": "LayoutModel",
          "model_module_version": "1.2.0",
          "state": {
            "_model_module": "@jupyter-widgets/base",
            "_model_module_version": "1.2.0",
            "_model_name": "LayoutModel",
            "_view_count": null,
            "_view_module": "@jupyter-widgets/base",
            "_view_module_version": "1.2.0",
            "_view_name": "LayoutView",
            "align_content": null,
            "align_items": null,
            "align_self": null,
            "border": null,
            "bottom": null,
            "display": null,
            "flex": null,
            "flex_flow": null,
            "grid_area": null,
            "grid_auto_columns": null,
            "grid_auto_flow": null,
            "grid_auto_rows": null,
            "grid_column": null,
            "grid_gap": null,
            "grid_row": null,
            "grid_template_areas": null,
            "grid_template_columns": null,
            "grid_template_rows": null,
            "height": null,
            "justify_content": null,
            "justify_items": null,
            "left": null,
            "margin": null,
            "max_height": null,
            "max_width": null,
            "min_height": null,
            "min_width": null,
            "object_fit": null,
            "object_position": null,
            "order": null,
            "overflow": null,
            "overflow_x": null,
            "overflow_y": null,
            "padding": null,
            "right": null,
            "top": null,
            "visibility": null,
            "width": null
          }
        },
        "d946f41447d746f7bc867f55c2b13d67": {
          "model_module": "@jupyter-widgets/controls",
          "model_name": "DescriptionStyleModel",
          "model_module_version": "1.5.0",
          "state": {
            "_model_module": "@jupyter-widgets/controls",
            "_model_module_version": "1.5.0",
            "_model_name": "DescriptionStyleModel",
            "_view_count": null,
            "_view_module": "@jupyter-widgets/base",
            "_view_module_version": "1.2.0",
            "_view_name": "StyleView",
            "description_width": ""
          }
        }
      }
    }
  },
  "nbformat": 4,
  "nbformat_minor": 0
}